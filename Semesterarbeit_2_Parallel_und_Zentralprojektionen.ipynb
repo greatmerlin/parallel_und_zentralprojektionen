{
 "cells": [
  {
   "cell_type": "markdown",
   "metadata": {},
   "source": [
    "# Teil 2 der Semesterarbeit: Parallel- und Zentralprojektionen"
   ]
  },
  {
   "cell_type": "markdown",
   "metadata": {},
   "source": [
    "Deadline: Mittwoch,  21.10.2020"
   ]
  },
  {
   "cell_type": "markdown",
   "metadata": {},
   "source": [
    "### 1. Parallelprojektion: https://www.youtube.com/watch?v=FXgTfIgZZZg\n",
    "\n",
    "Achtung:  Parallelepiped (siehe wiki)"
   ]
  },
  {
   "cell_type": "markdown",
   "metadata": {},
   "source": [
    "### 2. Zenralprojektion -> siehe Buch"
   ]
  },
  {
   "cell_type": "markdown",
   "metadata": {},
   "source": [
    "## Theorie"
   ]
  },
  {
   "cell_type": "markdown",
   "metadata": {},
   "source": [
    "Im Theorieteil müssen die mathematischen Grundlagen beschrieben werden, insbesondere die Idee und Anwendung der homogenen Koordinaten.\n"
   ]
  },
  {
   "cell_type": "markdown",
   "metadata": {},
   "source": [
    "Aufgaben:\n",
    "Sie verstehen die Matrizendarstellungen von Parallelprojektionen und Zentralprojektionen.\n",
    "Sie können Zentralprojektionen mit numpy berechnen und mit matplotlib visualisieren.\n",
    "\n",
    "Schreiben Sie eine Python Klasse für ein Parallelepiped (Spat).\n",
    "\n",
    "Erstellen Sie eine Pythonfunktion, um ein Parallelepiped mit einer Paralleprojektion  auf der 𝑥𝑦\n",
    "x\n",
    "y\n",
    "-Ebene darzustellen.\n",
    "Die Funktion soll als Argumente ein Parallelepiped und einen Richtungsvektor verwenden; die Funktion sollte eine Matplotlib-Graphik erstellen.\n",
    "Erstellen Sie eine Pythonfunktion, um ein Parallelepiped mit einer Zenralprojektion  auf der 𝑥𝑦\n",
    "x\n",
    "y\n",
    "-Ebene darzustellen.\n",
    "Die Funktion soll als Argumente ein Parallelepiped und ein Projektionszentrum (Kamera) verwenden; die Funktion sollte eine Matplotlib-Graphik erstellen.\n",
    "Hilfsmittel: Numpy, Matplotlib, Jupyter Notebook (oder Python-IDE)."
   ]
  },
  {
   "cell_type": "code",
   "execution_count": null,
   "metadata": {},
   "outputs": [],
   "source": []
  }
 ],
 "metadata": {
  "kernelspec": {
   "display_name": "Python 3",
   "language": "python",
   "name": "python3"
  },
  "language_info": {
   "codemirror_mode": {
    "name": "ipython",
    "version": 3
   },
   "file_extension": ".py",
   "mimetype": "text/x-python",
   "name": "python",
   "nbconvert_exporter": "python",
   "pygments_lexer": "ipython3",
   "version": "3.7.6"
  }
 },
 "nbformat": 4,
 "nbformat_minor": 2
}
