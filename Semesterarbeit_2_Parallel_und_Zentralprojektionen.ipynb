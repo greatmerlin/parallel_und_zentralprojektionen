{
 "cells": [
  {
   "cell_type": "markdown",
   "metadata": {},
   "source": [
    "# Teil 2 der Semesterarbeit: Parallel- und Zentralprojektionen"
   ]
  },
  {
   "cell_type": "markdown",
   "metadata": {},
   "source": [
    "Deadline: Mittwoch,  21.10.2020"
   ]
  },
  {
   "cell_type": "markdown",
   "metadata": {},
   "source": [
    "### 1. Parallelprojektion: https://www.youtube.com/watch?v=FXgTfIgZZZg\n",
    "\n",
    "Achtung:  Parallelepiped (siehe wiki)"
   ]
  },
  {
   "cell_type": "markdown",
   "metadata": {},
   "source": [
    "### 2. Zenralprojektion -> siehe Buch"
   ]
  },
  {
   "cell_type": "markdown",
   "metadata": {},
   "source": [
    "## Theorie"
   ]
  },
  {
   "cell_type": "markdown",
   "metadata": {},
   "source": [
    "Im Theorieteil müssen die mathematischen Grundlagen beschrieben werden, insbesondere die Idee und Anwendung der homogenen Koordinaten.\n"
   ]
  },
  {
   "cell_type": "markdown",
   "metadata": {},
   "source": [
    "Aufgaben:\n",
    "Sie verstehen die Matrizendarstellungen von Parallelprojektionen und Zentralprojektionen.\n",
    "Sie können Zentralprojektionen mit numpy berechnen und mit matplotlib visualisieren.\n",
    "\n",
    "Schreiben Sie eine Python Klasse für ein Parallelepiped (Spat).\n",
    "\n",
    "Erstellen Sie eine Pythonfunktion, um ein Parallelepiped mit einer Paralleprojektion  auf der 𝑥𝑦\n",
    "x\n",
    "y\n",
    "-Ebene darzustellen.\n",
    "Die Funktion soll als Argumente ein Parallelepiped und einen Richtungsvektor verwenden; die Funktion sollte eine Matplotlib-Graphik erstellen.\n",
    "Erstellen Sie eine Pythonfunktion, um ein Parallelepiped mit einer Zenralprojektion  auf der 𝑥𝑦\n",
    "x\n",
    "y\n",
    "-Ebene darzustellen.\n",
    "Die Funktion soll als Argumente ein Parallelepiped und ein Projektionszentrum (Kamera) verwenden; die Funktion sollte eine Matplotlib-Graphik erstellen.\n",
    "Hilfsmittel: Numpy, Matplotlib, Jupyter Notebook (oder Python-IDE)."
   ]
  },
  {
   "cell_type": "markdown",
   "metadata": {},
   "source": [
    "**Theorie:**"
   ]
  },
  {
   "cell_type": "markdown",
   "metadata": {},
   "source": [
    "Mit der allgemeineren Form der homogenen Koordinaten, man kann damit eine weitere Klasse von nicht-linearen Abbildungen von $R2$ nach $R2$ als homogene Matrizen darstellen, und zwar **Zentralprojektionen**."
   ]
  },
  {
   "cell_type": "markdown",
   "metadata": {},
   "source": [
    "Beispiel:\n",
    "imagexx1"
   ]
  },
  {
   "cell_type": "markdown",
   "metadata": {},
   "source": [
    "Um einen Punkt $P$ zu projizieren, wird er mit dem Nullpunkt verbunden und\n",
    "dann auf den Schnittpunkt $P′$ der Verbindungsgeraden mit der durch $y = d$\n",
    "gegebenen Geraden abgebildet. Diese Abbildung ist nicht linear. Zum Bei-\n",
    "spiel haben die beiden Punkte $(xP, yP + 1$) und $(xP, yP − 1)$ dieselbe Entfer-\n",
    "nung von $P$. Aber ihre Projektionen werden nicht dieselbe Entfernung von $P′$\n",
    "haben, d.h. Streckenverhältnisse auf Geraden bleiben nicht erhalten."
   ]
  },
  {
   "cell_type": "markdown",
   "metadata": {},
   "source": [
    "Obwohl die **Zentralprojektion nicht linear** ist, *lässt sie sich jedoch durch eine **homogene Matrix** darstellen*. "
   ]
  },
  {
   "cell_type": "markdown",
   "metadata": {},
   "source": [
    "Dazu muss man sich lediglich überlegen, wie die Koordinate $x′P$ des Punktes $P′$ berechnet wird.\n",
    "Man hat es offenbar mit zwei ähnlichen rechtwinkligen Dreiecken zu tun, so dass die Verhältnisse $x′P/xP$ und $d/yP$ übereinstimmen. Das bedeutet, dass man $x′P$ durch $xP * (d/yP)$ berechnen kann. Jetzt multiplizieren wir $[xP, yP, 1]^T$ mit der folgenden Matrix:"
   ]
  },
  {
   "cell_type": "markdown",
   "metadata": {},
   "source": [
    "M = $$\\begin{pmatrix} 1 & 0 & 0 \\\\ 0 & 1 & 0 \\\\ 0 & 1/d & 0 \\end{pmatrix}$$"
   ]
  },
  {
   "cell_type": "markdown",
   "metadata": {},
   "source": [
    "Das Ergebnis ist $[xP, yP, yP/d]^T$ "
   ]
  },
  {
   "cell_type": "markdown",
   "metadata": {},
   "source": [
    "Somit haben wir homogene Koordinaten für den Punkt $P′$ berechnet haben. Die homogene Matrix $M$ beschreibt also unsere **Zentralprojektion**."
   ]
  },
  {
   "cell_type": "code",
   "execution_count": 2,
   "metadata": {},
   "outputs": [],
   "source": [
    "################"
   ]
  },
  {
   "cell_type": "code",
   "execution_count": 3,
   "metadata": {},
   "outputs": [],
   "source": [
    "# Erstellen Sie eine Pythonfunktion, um ein Parallelepiped mit einer Paralleprojektion  auf der 𝑥𝑦 Ebene darzustellen."
   ]
  },
  {
   "cell_type": "code",
   "execution_count": 12,
   "metadata": {},
   "outputs": [],
   "source": [
    "from scipy import *\n",
    "from matrices import Matrix\n",
    "from vectors import Vector\n",
    "from canvas import Canvas\n",
    "from homog import *\n",
    "from math import pi\n",
    "from time import sleep"
   ]
  },
  {
   "cell_type": "code",
   "execution_count": 13,
   "metadata": {},
   "outputs": [],
   "source": [
    "left, right, bottom, top, near, far = -4, 4, -4, 4, 1, 20"
   ]
  },
  {
   "cell_type": "code",
   "execution_count": 14,
   "metadata": {},
   "outputs": [],
   "source": [
    "# homogene Projektion, ich bekomme zurück eine homogene Matrix, die beschreibt wie meine Kamera sich bewegen wird"
   ]
  },
  {
   "cell_type": "code",
   "execution_count": 37,
   "metadata": {},
   "outputs": [],
   "source": [
    "def projectionMatrix (xRotation, yRotation, distance):\n",
    "    # bewege mich zuerst nach x, dann nach y und dann zurück Richtung 0,0 (distance)\n",
    "    # dafür benötige ich eine Drehmatrix\n",
    "    \n",
    "    rotationMatrix = yRotationMatrix(yRotation) * xRotationMatrix(xRotation)\n",
    "    \n",
    "    # nun brauche ich die Richtung -> translation (um diesen Vektor von 0,0 weg zu nehmen)\n",
    "    \n",
    "    translation = rotationMatrix * (distance * Vector(0, 0, 1, 1))\n",
    "    \n",
    "    # vorher die Verschiebung dieser Vektor\n",
    "    cameraMatrix = translationMatrix(-translation) * rotationMatrix \n",
    "    \n",
    "    #ich muss von rechts nach links denken, erst skalieren, 20 / x Koordinaten, 20 / y Koordinaten und 20 / z Koord.\n",
    "    ndcMatrix = scalingMatrix(20 / (right-left), 20 / (top-bottom), 20 / (far-near)) * translationMatrix ( -(left + right)/ 2, -(top +bottom) / 2, -(far + near) /2 )\n",
    "    \n",
    "    return ndcMatrix * cameraMatrix.invert()"
   ]
  },
  {
   "cell_type": "code",
   "execution_count": 16,
   "metadata": {},
   "outputs": [
    {
     "data": {
      "text/plain": [
       "M[[0.8660254037844387, 0, 0.49999999999999994, 0], [0, 1, 0, 0], [-0.49999999999999994, 0, 0.8660254037844387, 0], [0, 0, 0, 1]]"
      ]
     },
     "execution_count": 16,
     "metadata": {},
     "output_type": "execute_result"
    }
   ],
   "source": [
    "# Auf eine Drehung, spielt der Ache der Drehung keine Rolle (0), d.h. nur die andere zwei Achsen\n",
    "# yRotation -> gibt zurück eine Drehungsmatrix, wo der Achse der Drehung keine Rolle spielt (0)\n",
    "yRotationMatrix(pi/6)"
   ]
  },
  {
   "cell_type": "code",
   "execution_count": 27,
   "metadata": {},
   "outputs": [],
   "source": [
    "# für einen Würfel, ich nehme die Koordinaten für einen Würfel (mit -2, 2 x und y Koordinaten)\n",
    "cubePoints = [Vector(x, y, z) for x in [-2, 2] for y in [-2, 2] for z in [-2, 2]]"
   ]
  },
  {
   "cell_type": "code",
   "execution_count": 28,
   "metadata": {},
   "outputs": [
    {
     "data": {
      "text/plain": [
       "[v(-2, -2, -2),\n",
       " v(-2, -2, 2),\n",
       " v(-2, 2, -2),\n",
       " v(-2, 2, 2),\n",
       " v(2, -2, -2),\n",
       " v(2, -2, 2),\n",
       " v(2, 2, -2),\n",
       " v(2, 2, 2)]"
      ]
     },
     "execution_count": 28,
     "metadata": {},
     "output_type": "execute_result"
    }
   ],
   "source": [
    "cubePoints"
   ]
  },
  {
   "cell_type": "code",
   "execution_count": 29,
   "metadata": {},
   "outputs": [],
   "source": [
    "# um die Kanten auch zu zeichnen, eine Funktion die auf alle Paare geht und sagt wenn eure Abstand 4 ist seid ihr eine Kante\n",
    "\n",
    "cubeEdges = []\n",
    "for i,  P1 in enumerate(cubePoints):\n",
    "    for P2 in cubePoints[i+1:]:\n",
    "        if (P1 - P2).norm() == 4:\n",
    "            #dort wo der Abstand gleich 4 ist\n",
    "            cubeEdges.append([P1, P2])"
   ]
  },
  {
   "cell_type": "code",
   "execution_count": 30,
   "metadata": {},
   "outputs": [
    {
     "data": {
      "text/plain": [
       "[[v(-2, -2, -2), v(-2, -2, 2)],\n",
       " [v(-2, -2, -2), v(-2, 2, -2)],\n",
       " [v(-2, -2, -2), v(2, -2, -2)],\n",
       " [v(-2, -2, 2), v(-2, 2, 2)],\n",
       " [v(-2, -2, 2), v(2, -2, 2)],\n",
       " [v(-2, 2, -2), v(-2, 2, 2)],\n",
       " [v(-2, 2, -2), v(2, 2, -2)],\n",
       " [v(-2, 2, 2), v(2, 2, 2)],\n",
       " [v(2, -2, -2), v(2, -2, 2)],\n",
       " [v(2, -2, -2), v(2, 2, -2)],\n",
       " [v(2, -2, 2), v(2, 2, 2)],\n",
       " [v(2, 2, -2), v(2, 2, 2)]]"
      ]
     },
     "execution_count": 30,
     "metadata": {},
     "output_type": "execute_result"
    }
   ],
   "source": [
    "cubeEdges  # das ist die Liste aller Kanten des Würfels"
   ]
  },
  {
   "cell_type": "code",
   "execution_count": 34,
   "metadata": {},
   "outputs": [
    {
     "data": {
      "application/javascript": [
       "\n",
       "element.append(\"<canvas id='canvas_1' width=200 height=200 style='background-color: #f0f0f0'></canvas>\")\n"
      ],
      "text/plain": [
       "<IPython.core.display.Javascript object>"
      ]
     },
     "metadata": {},
     "output_type": "display_data"
    }
   ],
   "source": [
    "def drawCube(c, xAngleDeg = 20, yAngleDeg = 30, distance = 10, edges = cubeEdges):\n",
    "\n",
    "        M = projectionMatrix(xAngleDeg / 180 * pi, yAngleDeg / 180 * pi, distance)\n",
    "    \n",
    "        c.clear()\n",
    "        for P1, P2 in edges:\n",
    "            P1= lower(M * lift(P1))\n",
    "            P2 = lower(M * lift(P2))\n",
    "            c.drawSegment(P1, P2)\n",
    "            \n",
    "c = Canvas()\n",
    "            \n",
    "            "
   ]
  },
  {
   "cell_type": "code",
   "execution_count": 38,
   "metadata": {},
   "outputs": [
    {
     "data": {
      "application/javascript": [
       "\n",
       "var context = document.getElementById('canvas_1').getContext(\"2d\")\n",
       "\n",
       "context.lineWidth = 1\n",
       "context.strokeStyle = 'black'\n",
       "context.beginPath()\n",
       "context.moveTo(168.30127018922192, 59.27477201386406)\n",
       "context.lineTo(118.30127018922195, 29.65495874126168)\n",
       "context.stroke()\n",
       "\n"
      ],
      "text/plain": [
       "<IPython.core.display.Javascript object>"
      ]
     },
     "metadata": {},
     "output_type": "display_data"
    }
   ],
   "source": [
    "drawCube(c)"
   ]
  },
  {
   "cell_type": "code",
   "execution_count": 40,
   "metadata": {},
   "outputs": [
    {
     "data": {
      "application/javascript": [
       "\n",
       "var context = document.getElementById('canvas_1').getContext(\"2d\")\n",
       "\n",
       "context.lineWidth = 1\n",
       "context.strokeStyle = 'black'\n",
       "context.beginPath()\n",
       "context.moveTo(163.55433650282365, 63.61714555539707)\n",
       "context.lineTo(130.99752105710797, 31.278505681041025)\n",
       "context.stroke()\n",
       "\n"
      ],
      "text/plain": [
       "<IPython.core.display.Javascript object>"
      ]
     },
     "metadata": {},
     "output_type": "display_data"
    }
   ],
   "source": [
    "for angle in range(-20, 20):\n",
    "    drawCube(c, yAngleDeg=angle)\n",
    "    sleep(0.1)"
   ]
  },
  {
   "cell_type": "code",
   "execution_count": null,
   "metadata": {},
   "outputs": [],
   "source": []
  }
 ],
 "metadata": {
  "kernelspec": {
   "display_name": "Python 3",
   "language": "python",
   "name": "python3"
  },
  "language_info": {
   "codemirror_mode": {
    "name": "ipython",
    "version": 3
   },
   "file_extension": ".py",
   "mimetype": "text/x-python",
   "name": "python",
   "nbconvert_exporter": "python",
   "pygments_lexer": "ipython3",
   "version": "3.7.6"
  }
 },
 "nbformat": 4,
 "nbformat_minor": 2
}
