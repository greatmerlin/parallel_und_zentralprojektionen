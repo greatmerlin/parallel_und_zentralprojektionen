{
 "cells": [
  {
   "cell_type": "markdown",
   "metadata": {},
   "source": [
    "# Teil 2 der Semesterarbeit: Parallel- und Zentralprojektionen  \n",
    "  \n",
    "Dozent: Markus Geuss    \n",
    "Student: Theologos Baxevanos  \n",
    "Fach: Linear Algebra  \n",
    "Semester: HS20  \n",
    "Schule: Fern Fachhochschule Schweiz"
   ]
  },
  {
   "cell_type": "markdown",
   "metadata": {},
   "source": [
    "Deadline: Montag,  26.10.2020"
   ]
  },
  {
   "cell_type": "markdown",
   "metadata": {},
   "source": [
    "## Inhaltsverzeichnis"
   ]
  },
  {
   "cell_type": "markdown",
   "metadata": {},
   "source": [
    "### 1. Theorie  \n",
    "1.1 Parallelprojektion   \n",
    "1.2 Zentralprojektion\n"
   ]
  },
  {
   "cell_type": "markdown",
   "metadata": {},
   "source": [
    "### 2. Implementierung mit Python  \n",
    "2.1 GitHub Link  \n",
    "2.2 Parallelprojektion in Python   \n",
    "2.3 Zentralprojektion in Python"
   ]
  },
  {
   "cell_type": "markdown",
   "metadata": {},
   "source": [
    "### 3. Quellen"
   ]
  },
  {
   "cell_type": "markdown",
   "metadata": {},
   "source": [
    "### 3. Credits"
   ]
  },
  {
   "cell_type": "markdown",
   "metadata": {},
   "source": [
    "-------------------------------"
   ]
  },
  {
   "cell_type": "markdown",
   "metadata": {},
   "source": [
    "## 1. Theorie"
   ]
  },
  {
   "cell_type": "markdown",
   "metadata": {},
   "source": [
    "Wieso Peojektionen und was sind die Kameramodelle?  \n",
    "Nachdem alle Objekte einer Szenerie mittels der Transformationen im 3D-Weltkoordinatensystem platziert sind, muss die Szenerie aus verschiedenen Blickwinkeln auf eine 2D-Bildfläche projiziert werden.\n",
    "Dazu verwendet man eine virtuelle Kamera, die wie folgt definiert ist:  \n",
    "• Ihre Position ist durch die Koordinaten eines Punkts gegeben. [1]   \n",
    "• Der Bildausschnitt ist rechtwinklig.  \n",
    "• Ihr Schärfebereich ist unendlich gross.  "
   ]
  },
  {
   "cell_type": "markdown",
   "metadata": {},
   "source": [
    "Man verwendet zwei Typen von Projektionen, die **Parallel-** und die **Zentralprojektion** [1] :\n",
    "![im2](im2.png)"
   ]
  },
  {
   "cell_type": "markdown",
   "metadata": {},
   "source": [
    "## 1.1 Parallelprojektion  \n",
    "  \n",
    "Bei einer Parallelprojektion verlaufen die Projektionsgeraden parallel zueinander.  \n",
    "\n",
    "Es gibt zwei Untertypen:  \n",
    "- bei **orthogonaler Projektion** stehen die Projektionsstrahlen senkrecht auf der Projektionsebene.\n",
    "- bei **schiefwinkliger Projektion** nicht. \n",
    "Die **Projektionsrichtung** wird durch einen normierten **Vektor** p gegeben.\n",
    "\n",
    "Für Vektoren p , die parallel zu den Koordinatenachsen sind, ergeben sich als Bilder die sechs Hauptrisse (Grundriss, Aufriss, Seitenriss) eines Objekts. [1]"
   ]
  },
  {
   "cell_type": "markdown",
   "metadata": {},
   "source": [
    "Ein Beispiel [3]:  \n",
    "![pp](parp.png)"
   ]
  },
  {
   "cell_type": "markdown",
   "metadata": {},
   "source": [
    "Was bedeutet das Mathematisch?  \n",
    "  \n",
    "Wir können zuerst den einfachen Fall betrachen, dass die Projektionsebene mit der $x1$ $x2$-Ebene zusammenfällt und dort auch das $x1$ $x2$-Koordinatensystem gewählt wird. Dann werden bei der Projektion einfach alle $x3$-Koordinaten auf 0 abgebildet, die übrigen bleiben gleich [1].  \n",
    "Nun ein Beispiel einer orthogonalen Projektion mit homogene Koordinaten:\n",
    " "
   ]
  },
  {
   "cell_type": "markdown",
   "metadata": {},
   "source": [
    "H = $$\\begin{pmatrix} 1 & 0 & 0 & 0 \\\\ 0 & 1 & 0 & 0 \\\\ 0 & 0 & 0 & 0 \\\\ 0 & 0 & 0 & 1 \\end{pmatrix}$$"
   ]
  },
  {
   "cell_type": "markdown",
   "metadata": {},
   "source": [
    "Wählt man eine andere Ebene parallel zur $x1$ $x2$-Ebene, etwa die Ebene $x3 = d$, so werden alle $x3$-Koordinaten auf $d$ abgebildet. Soll schließlich der Ursprung des Bildkoordinatensystems nicht $(0, 0, d)$ sein, sondern $(b, c, d)$, so ist noch ein Translationsanteil hinzuzufügen [1]."
   ]
  },
  {
   "cell_type": "markdown",
   "metadata": {},
   "source": [
    "N = $$\\begin{pmatrix} 1 & 0 & 0 & b \\\\ 0 & 1 & 0 & c \\\\ 0 & 0 & 0 & d \\\\ 0 & 0 & 0 & 1 \\end{pmatrix}$$"
   ]
  },
  {
   "cell_type": "markdown",
   "metadata": {},
   "source": [
    "## 1. 2 Zenralprojektion"
   ]
  },
  {
   "cell_type": "markdown",
   "metadata": {},
   "source": [
    "Mit der allgemeineren Form der homogenen Koordinaten, man kann damit eine weitere Klasse von nicht-linearen Abbildungen von $R2$ nach $R2$ als homogene Matrizen darstellen, und zwar **Zentralprojektionen**."
   ]
  },
  {
   "cell_type": "markdown",
   "metadata": {},
   "source": [
    "Beispiel [2]:\n",
    "![zp](imagexx1.png)"
   ]
  },
  {
   "cell_type": "markdown",
   "metadata": {},
   "source": [
    "Um einen Punkt $P$ zu projizieren, wird er mit dem Nullpunkt verbunden und\n",
    "dann auf den Schnittpunkt $P′$ der Verbindungsgeraden mit der durch $y = d$\n",
    "gegebenen Geraden abgebildet. Diese Abbildung ist nicht linear. Zum Bei-\n",
    "spiel haben die beiden Punkte $(xP, yP + 1$) und $(xP, yP − 1)$ dieselbe Entfer-\n",
    "nung von $P$. Aber ihre Projektionen werden nicht dieselbe Entfernung von $P′$\n",
    "haben, d.h. Streckenverhältnisse auf Geraden bleiben nicht erhalten. [1]"
   ]
  },
  {
   "cell_type": "markdown",
   "metadata": {},
   "source": [
    "Obwohl die **Zentralprojektion nicht linear** ist, *lässt sie sich jedoch durch eine **homogene Matrix** darstellen*. "
   ]
  },
  {
   "cell_type": "markdown",
   "metadata": {},
   "source": [
    "Dazu muss man sich lediglich überlegen, wie die Koordinate $x′P$ des Punktes $P′$ berechnet wird.\n",
    "Man hat es offenbar mit zwei ähnlichen rechtwinkligen Dreiecken zu tun, so dass die Verhältnisse $x′P/xP$ und $d/yP$ übereinstimmen. Das bedeutet, dass man $x′P$ durch $xP * (d/yP)$ berechnen kann. [1] Jetzt multiplizieren wir $[xP, yP, 1]^T$ mit der folgenden Matrix:"
   ]
  },
  {
   "cell_type": "markdown",
   "metadata": {},
   "source": [
    "M = $$\\begin{pmatrix} 1 & 0 & 0 \\\\ 0 & 1 & 0 \\\\ 0 & 1/d & 0 \\end{pmatrix}$$"
   ]
  },
  {
   "cell_type": "markdown",
   "metadata": {},
   "source": [
    "Das Ergebnis ist $[xP, yP, yP/d]^T$ "
   ]
  },
  {
   "cell_type": "markdown",
   "metadata": {},
   "source": [
    "Somit haben wir homogene Koordinaten für den Punkt $P′$ berechnet haben. Die homogene Matrix $M$ beschreibt also unsere **Zentralprojektion**."
   ]
  },
  {
   "cell_type": "markdown",
   "metadata": {},
   "source": [
    "#### Nun sehen wir beide Darstellungen nebeneinander um sie besser vergleichen zu können [3]:\n",
    "![beide](beide.png)"
   ]
  },
  {
   "cell_type": "markdown",
   "metadata": {},
   "source": [
    "# 2. Implementierung mit Python"
   ]
  },
  {
   "cell_type": "markdown",
   "metadata": {},
   "source": [
    "## 2.1 GitHub Link für den Sourcecode: https://github.com/greatmerlin/parallel_und_zentralprojektionen.git"
   ]
  },
  {
   "cell_type": "markdown",
   "metadata": {},
   "source": [
    "## 2.2  Parallelprojektion in Python"
   ]
  },
  {
   "cell_type": "code",
   "execution_count": 210,
   "metadata": {},
   "outputs": [],
   "source": [
    "######################################\n",
    "# AUFGABE 1\n",
    "# Erstellen Sie eine Pythonfunktion, um ein Parallelepiped mit einer Paralleprojektion  auf der 𝑥𝑦 Ebene \n",
    "# darzustellen.\n",
    "# Die Funktion soll als Argumente ein Parallelepiped und einen Richtungsvektor für die Projektionsrichtung\n",
    "# verwenden\n",
    "######################################"
   ]
  },
  {
   "cell_type": "code",
   "execution_count": 211,
   "metadata": {},
   "outputs": [],
   "source": [
    "# Projektionsrichtungsfunction\n",
    "\n",
    "def parallel(a, b, c, d, e, f, g, h, p, q, w):\n",
    "    points = np.array([[-1, -1, -1],\n",
    "                  [1, -1, -1 ],\n",
    "                  [1, 1, -1],\n",
    "                  [-1, 1, -1],\n",
    "                  [-1, -1, 1],\n",
    "                  [1, -1, 1 ],\n",
    "                  [1, 1, 1],\n",
    "                  [-1, 1, 1]])\n",
    "    \n",
    "    Z = np.zeros((8,3))\n",
    "    for i in range(8): Z[i,:] = np.dot(points[i,:],P)\n",
    "    Z = 10.0*Z\n",
    "    \n",
    "    fig = plt.figure()\n",
    "    ax = fig.add_subplot(111, projection='3d')\n",
    "    \n",
    "    r = [-1,1]\n",
    "\n",
    "    X, Y = np.meshgrid(r, r)\n",
    "\n",
    "    # plot vertices\n",
    "    ax.scatter3D(Z[:, p], Z[:, q], Z[:, w])\n",
    "\n",
    "    # Liste der Seitenpolygone der Figur\n",
    "    verts = [[Z[a],Z[b],Z[c],Z[d]],\n",
    "     [Z[e],Z[f],Z[g],Z[h]], \n",
    "     [Z[a],Z[b],Z[f],Z[e]], \n",
    "     [Z[c],Z[d],Z[h],Z[g]], \n",
    "     [Z[b],Z[c],Z[g],Z[f]],\n",
    "     [Z[e],Z[h],Z[d],Z[a]]]\n",
    "\n",
    "    # plot Seiten\n",
    "    ax.add_collection3d(Poly3DCollection(verts, \n",
    "     facecolors='green', linewidths=1, edgecolors='r', alpha=.25))\n",
    "\n",
    "    ax.set_xlabel('X')\n",
    "    ax.set_ylabel('Y')\n",
    "    ax.set_zlabel('Z')\n",
    "\n",
    "    plt.show()"
   ]
  },
  {
   "cell_type": "code",
   "execution_count": 212,
   "metadata": {},
   "outputs": [
    {
     "data": {
      "image/png": "[encoded data removed]",
      "text/plain": [
       "<Figure size 432x288 with 1 Axes>"
      ]
     },
     "metadata": {
      "needs_background": "light"
     },
     "output_type": "display_data"
    }
   ],
   "source": [
    "# Die Funktion nimmt als Argumente ein Parallelepiped und einen Richtungsvektor für die Projektionsrichtung\n",
    "\n",
    "# (a, b, c, d, e, f, g, h) ist das Parallepiped. (Werte zwischen 0-7) Epfohlehne Werte: 0, 1, 2, 3, 4, 5, 6, 7\n",
    "\n",
    "# (p, q, w) ist der Richtungsvektor (Werte zwischen 0-3) Epfohlene Werte: 0, 1, 2\n",
    "\n",
    "\n",
    "parallel(0, 1, 2, 3, 4, 5, 6, 7, 0, 1, 2)"
   ]
  },
  {
   "cell_type": "markdown",
   "metadata": {},
   "source": [
    "## 2.2  Zentralprojektion in Python"
   ]
  },
  {
   "cell_type": "code",
   "execution_count": 213,
   "metadata": {},
   "outputs": [],
   "source": [
    "######################################\n",
    "# AUFGABE 2\n",
    "# Erstellen Sie eine Pythonfunktion, um ein Zentral mit einer Paralleprojektion  auf der 𝑥𝑦 Ebene \n",
    "# darzustellen.\n",
    "# Die Funktion soll als Argumente ein Parallelepiped und ein Projektionszentrum (Kamera) verwenden;\n",
    "# die Funktion sollte eine Matplotlib-Graphik erstellen\n",
    "######################################"
   ]
  },
  {
   "cell_type": "code",
   "execution_count": 214,
   "metadata": {},
   "outputs": [],
   "source": [
    "# Um eine Funktion die als Argumente ein Parallelepiped und ein Projektionszentrum (Kamera) verwendet, \n",
    "# werde ich einen anderen Ansatz als die Parallelprojektion implementieren"
   ]
  },
  {
   "cell_type": "code",
   "execution_count": 267,
   "metadata": {},
   "outputs": [],
   "source": [
    "import numpy as np\n",
    "import matplotlib as mpl\n",
    "import matplotlib.pyplot as plt\n",
    "import time\n",
    "import warnings\n",
    "warnings.filterwarnings('ignore')"
   ]
  },
  {
   "cell_type": "code",
   "execution_count": 268,
   "metadata": {},
   "outputs": [],
   "source": [
    "class Parallelepiped:\n",
    "    \n",
    "    def __init__(self, vector_a, vector_b, vector_c):\n",
    "        \n",
    "        if (len(vector_a) != 3) or (len(vector_b) != 3) or (len(vector_c) != 3):\n",
    "            raise BaseException('At least one vector has not 3 dimensions')\n",
    "        if (self.__linear_independency(vector_a, vector_b) == True) \\\n",
    "        and (self.__linear_independency(vector_a, vector_c) == True) \\\n",
    "        and (self.__linear_independency(vector_b, vector_c) == True):    \n",
    "            self.a = vector_a\n",
    "            self.b = vector_b\n",
    "            self.c = vector_c\n",
    "            self.cube_points = [\n",
    "                np.array([0,0,0]), \n",
    "                self.a,\n",
    "                self.b,\n",
    "                self.c,\n",
    "                self.a + self.c,\n",
    "                self.a + self.b,\n",
    "                self.b + self.c,\n",
    "                self.a + self.b + self.c\n",
    "            ]\n",
    "        else:\n",
    "            raise BaseException('At least two vectors are linear dependent')\n",
    "    \n",
    "    def getVolume(self):\n",
    "        \n",
    "        return np.abs(np.cross(self.a,self.c) @ self.b)\n",
    "      \n",
    "    def getCubePoints(self):\n",
    "        \n",
    "        return self.cube_points\n",
    "    \n",
    "    def getEdges(self, cube_points = []):\n",
    "        \n",
    "        if len(cube_points) == 0:\n",
    "            cube_points = self.cube_points\n",
    "            \n",
    "        cube_edges = [\n",
    "            (cube_points[0], cube_points[1]),\n",
    "            (cube_points[0], cube_points[2]),\n",
    "            (cube_points[0], cube_points[3]),\n",
    "            (cube_points[1], cube_points[4]),\n",
    "            (cube_points[1], cube_points[5]),\n",
    "            (cube_points[2], cube_points[5]),\n",
    "            (cube_points[2], cube_points[6]),\n",
    "            (cube_points[3], cube_points[4]),\n",
    "            (cube_points[3], cube_points[6]),\n",
    "            (cube_points[4], cube_points[7]),\n",
    "            (cube_points[5], cube_points[7]),\n",
    "            (cube_points[6], cube_points[7]),\n",
    "        ]\n",
    "        return cube_edges\n",
    "    \n",
    "    def __linear_independency(self, a, b):\n",
    "        \n",
    "        res1 = a[0] / b[0]\n",
    "        res2 = a[1] / b[1]\n",
    "        res3 = a[2] / b[2]\n",
    "        return not ((res1 == res2) and (res1 == res3) and (res2 == res3))"
   ]
  },
  {
   "cell_type": "code",
   "execution_count": 269,
   "metadata": {},
   "outputs": [],
   "source": [
    "def lift_m(m):\n",
    "    \n",
    "    return np.array([[m[0][0],m[0][1],m[0][2], 0],\n",
    "                     [m[1][0],m[1][1],m[1][2], 0],\n",
    "                     [m[2][0],m[2][1],m[2][2], 0],\n",
    "                     [0, 0, 0, 1]\n",
    "                    ])"
   ]
  },
  {
   "cell_type": "code",
   "execution_count": 270,
   "metadata": {},
   "outputs": [],
   "source": [
    "def lift_v(vector):\n",
    "    \n",
    "    return np.array(\n",
    "        [vector[0] * view_distance, vector[1] * view_distance, vector[2] * view_distance, 1 * view_distance]\n",
    "    )"
   ]
  },
  {
   "cell_type": "code",
   "execution_count": 271,
   "metadata": {},
   "outputs": [],
   "source": [
    "def lower_v(vector):\n",
    "    \n",
    "    if vector[3] == 0:\n",
    "        vector[3] = 0.001\n",
    "    return np.array([vector[0] / vector[3], vector[1] / vector[3], vector[2] / vector[3]])"
   ]
  },
  {
   "cell_type": "code",
   "execution_count": 272,
   "metadata": {},
   "outputs": [],
   "source": [
    "def translationMatrix(x = 0,y = 0,z = 0):\n",
    "    \n",
    "    return np.array([[1, 0, 0, x],\n",
    "                 [0, 1, 0, y],\n",
    "                 [0, 0, 1, z],\n",
    "                 [0, 0, 0, 1]])"
   ]
  },
  {
   "cell_type": "code",
   "execution_count": 304,
   "metadata": {},
   "outputs": [],
   "source": [
    "def plot_projection(parallelepiped, transformation_matrix):\n",
    "    \n",
    "    M = transformation_matrix\n",
    "    \n",
    "    points = []\n",
    "    for point in parallelepiped.getCubePoints():\n",
    "        points.append(lower_v(M @ lift_v(point)))\n",
    "    \n",
    "    for edge in parallelepiped.getEdges(points):\n",
    "        x = [edge[0][0],edge[1][0]]\n",
    "        y = [edge[0][1],edge[1][1]]\n",
    "        \n",
    "        plt.plot(x,y, color='red', linewidth=4)"
   ]
  },
  {
   "cell_type": "code",
   "execution_count": 305,
   "metadata": {},
   "outputs": [],
   "source": [
    "def parallelProjectionMatrix(p):\n",
    "    \n",
    "    p_norm = p / np.linalg.norm(p)\n",
    "\n",
    "    w = np.array([0,1,0])\n",
    "    n = -p_norm\n",
    "    u = np.cross(w, p_norm) / np.linalg.norm(np.cross(w, p_norm))\n",
    "    v = -(np.cross(n, u))\n",
    "    \n",
    "    Kt = lift_m(np.array([u,v,n]))\n",
    "    Vd = translationMatrix(z = p[2])\n",
    "    \n",
    "    M = Kt @ Vd\n",
    "    return M"
   ]
  },
  {
   "cell_type": "code",
   "execution_count": 306,
   "metadata": {},
   "outputs": [],
   "source": [
    "view_distance = 2\n",
    "\n",
    "def centralProjectionMatrix(p):\n",
    "\n",
    "    P = parallelProjectionMatrix(p)\n",
    "    Pd = np.array([[1, 0, 0, 0],\n",
    "                 [0, 1, 0, 0],\n",
    "                 [0, 0, 0, 0],\n",
    "                 [0, 0, -1/view_distance, 1]])\n",
    "    \n",
    "    M = Pd @ P\n",
    "    return M"
   ]
  },
  {
   "cell_type": "code",
   "execution_count": 307,
   "metadata": {},
   "outputs": [],
   "source": [
    "def plot_central_projection(parallelepiped, view_direction):\n",
    "    \n",
    "    M = centralProjectionMatrix(view_direction)\n",
    "    \n",
    "    plot_projection(parallelepiped, M)"
   ]
  },
  {
   "cell_type": "code",
   "execution_count": 308,
   "metadata": {},
   "outputs": [
    {
     "data": {
      "image/png": "[encoded data removed]",
      "text/plain": [
       "<Figure size 432x288 with 1 Axes>"
      ]
     },
     "metadata": {
      "needs_background": "light"
     },
     "output_type": "display_data"
    }
   ],
   "source": [
    "a = np.array([1,0,0])\n",
    "b = np.array([0,0,1])\n",
    "c = np.array([1,2,0])\n",
    "\n",
    "obj = Parallelepiped(a,b,c)\n",
    "\n",
    "view_direction = np.array([2,-2,-1])\n",
    "\n",
    "plot_central_projection(obj, view_direction)"
   ]
  },
  {
   "cell_type": "markdown",
   "metadata": {},
   "source": [
    "## 3. Quellen"
   ]
  },
  {
   "cell_type": "markdown",
   "metadata": {},
   "source": [
    "- [1] Moeller, B., 2020. Graphikprogrammierung. pp.18-28.    \n",
    "- [2] Weitz, E., 2018. Konkrete Mathematik (Nicht Nur) Für Informatiker. Wiesbaden, Germany: Springer  \n",
    "- [3] konstruieren, M. and Zentralprojektion, P., 2020. Zentralprojektion | Sofatutor.Com. [online] sofatutor.com. Available at: <https://www.sofatutor.com/mathematik/videos/zentralprojektion> [Accessed 25 October 2020]."
   ]
  },
  {
   "cell_type": "markdown",
   "metadata": {},
   "source": [
    "## 4. Credits  \n",
    "  \n",
    "Hier möchte ich mit bei Herr Markus Geuss für das Erklärvideo zur Zentralprojektion herzlich bedanken, was mir die Theorie bzg. Zentralprojektion erläutert hat und Thierry Girod für seine Unterstützung in den Python Code für die Zentralprojektion. "
   ]
  }
 ],
 "metadata": {
  "kernelspec": {
   "display_name": "Python 3",
   "language": "python",
   "name": "python3"
  },
  "language_info": {
   "codemirror_mode": {
    "name": "ipython",
    "version": 3
   },
   "file_extension": ".py",
   "mimetype": "text/x-python",
   "name": "python",
   "nbconvert_exporter": "python",
   "pygments_lexer": "ipython3",
   "version": "3.7.6"
  }
 },
 "nbformat": 4,
 "nbformat_minor": 2
}
